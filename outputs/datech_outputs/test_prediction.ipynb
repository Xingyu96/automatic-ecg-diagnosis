{
 "cells": [
  {
   "cell_type": "code",
   "execution_count": 167,
   "id": "a00d9cfa",
   "metadata": {},
   "outputs": [],
   "source": [
    "import numpy as np\n",
    "from matplotlib import pyplot as plt\n",
    "from matplotlib.ticker import (AutoMinorLocator, MultipleLocator)\n",
    "import json\n",
    "from json import JSONEncoder\n",
    "import h5py\n",
    "import csv"
   ]
  },
  {
   "cell_type": "code",
   "execution_count": 168,
   "id": "67c43a8d",
   "metadata": {},
   "outputs": [],
   "source": [
    "class NumpyArrayEncoder(JSONEncoder):\n",
    "    def default(self, obj):\n",
    "        if isinstance(obj, np.ndarray):\n",
    "            return obj.tolist()\n",
    "        return JSONEncoder.default(self, obj)"
   ]
  },
  {
   "cell_type": "code",
   "execution_count": 173,
   "id": "d5aaf85c",
   "metadata": {},
   "outputs": [
    {
     "name": "stdout",
     "output_type": "stream",
     "text": [
      "(50, 4096, 12)\n"
     ]
    }
   ],
   "source": [
    "# get sample tracings\n",
    "filename = \"../../data/ecg_tracings.hdf5\"\n",
    "\n",
    "data = None\n",
    "\n",
    "with h5py.File(filename, \"r\") as f:\n",
    "    # List all groups\n",
    "    a_group_key = list(f.keys())[0]\n",
    "\n",
    "    # Get the data\n",
    "    data = list(f[a_group_key])\n",
    "\n",
    "nd_data = np.asarray(data)\n",
    "nd_data_50 = nd_data[:50]\n",
    "nd_data_20 = nd_data[:20]\n",
    "print(nd_data_50.shape)"
   ]
  },
  {
   "cell_type": "code",
   "execution_count": 193,
   "id": "49a6e841",
   "metadata": {},
   "outputs": [
    {
     "name": "stdout",
     "output_type": "stream",
     "text": [
      "16.715126065770466\n",
      "-8.132808492374114\n",
      "-0.05628314906933864\n"
     ]
    }
   ],
   "source": [
    "# visualize ECG data\n",
    "print(nd_data_50.max())\n",
    "print(nd_data_50.min())\n",
    "print(nd_data_50.mean())\n",
    "\n",
    "one_ecg = nd_data_50[0]\n",
    "swap_ecg_0 = np.swapaxes(one_ecg, 0, 1)\n",
    "leads_len = swap_ecg.shape[0]\n",
    "data_len = swap_ecg.shape[1]\n",
    "\n",
    "titles = ['I', 'II', 'III', 'aVF', 'aVR', 'aVL', 'V1', 'V2', 'V3', 'V4', 'V5', 'V6']\n",
    "\n",
    "def save_ecgs(ecg_num):\n",
    "    for i in range(ecg_num):\n",
    "        for j in range(12):\n",
    "            swap_ecg = np.swapaxes(nd_data_50[i], 0, 1)\n",
    "            y_ecg_plot = swap_ecg[j]\n",
    "            x_time = range(data_len)\n",
    "            sizes = [10 for n in range(data_len)]\n",
    "\n",
    "            # plt.scatter(x_time, y_ecg_plot, c=\"red\")\n",
    "            fig = plt.figure()\n",
    "            plt.plot(x_time, y_ecg_plot, '-0')\n",
    "            plt.title(titles[j], color='#FFFFFF')\n",
    "\n",
    "            ax = plt.gca()\n",
    "            ax.set_ylim([-5, 5])\n",
    "\n",
    "            ax.xaxis.set_major_locator(MultipleLocator(100))\n",
    "            ax.yaxis.set_major_locator(MultipleLocator(0.35))\n",
    "            ax.set_yticklabels([])\n",
    "            ax.set_xticklabels([])\n",
    "\n",
    "            plt.grid(which='major', color='#D39191', linestyle='-')\n",
    "#             plt.show()\n",
    "            fig.savefig(\"./ecg-imgs/ecg_\" + str(i) + \"_\" + str(j) + \".png\")\n",
    "            plt.close()\n",
    "\n",
    "save_ecgs(50)"
   ]
  },
  {
   "cell_type": "code",
   "execution_count": 174,
   "id": "f29b1710",
   "metadata": {},
   "outputs": [],
   "source": [
    "# save tracings in json file\n",
    "\n",
    "# JSON Serialization for expediency of demo\n",
    "npData = {}\n",
    "sampleSize = nd_data_20.shape[0]\n",
    "for i in range(sampleSize):\n",
    "    ecg_data = nd_data_50[i]\n",
    "    npData[i] = ecg_data\n",
    "encodeNpData = json.dumps(npData, cls=NumpyArrayEncoder)  # use dump() to write array into file\n",
    "with open('sample_tracings.json', 'w') as json_file:\n",
    "    json.dump(encodeNpData, json_file)"
   ]
  },
  {
   "cell_type": "code",
   "execution_count": 51,
   "id": "712db0a6",
   "metadata": {},
   "outputs": [],
   "source": [
    "# get patient data\n",
    "# Function to convert a CSV to JSON\n",
    "# Takes the file paths as arguments\n",
    "def make_json(csvFilePath, jsonFilePath):\n",
    "     \n",
    "    # create a dictionary\n",
    "    data = {}\n",
    "     \n",
    "    # Open a csv reader called DictReader\n",
    "    with open(csvFilePath, encoding='utf-8') as csvf:\n",
    "        csvReader = csv.DictReader(csvf)\n",
    "         \n",
    "        # Convert each row into a dictionary\n",
    "        # and add it to data\n",
    "        for index, rows in enumerate(csvReader):\n",
    "             \n",
    "            # Assuming a column named 'No' to\n",
    "            # be the primary key\n",
    "            key = int(index)\n",
    "            data[key] = rows\n",
    " \n",
    "    # Open a json writer, and use the json.dumps()\n",
    "    # function to dump data\n",
    "    with open(jsonFilePath, 'w', encoding='utf-8') as jsonf:\n",
    "        jsonf.write(json.dumps(data, indent=4))\n",
    "         \n",
    "# Driver Code\n",
    " \n",
    "# Decide the two file paths according to your\n",
    "# computer system\n",
    "csvFilePath = r'attributes.csv'\n",
    "jsonFilePath = r'attributes.json'\n",
    " \n",
    "# Call the make_json function\n",
    "make_json(csvFilePath, jsonFilePath)\n"
   ]
  },
  {
   "cell_type": "code",
   "execution_count": 23,
   "id": "838a8f42",
   "metadata": {},
   "outputs": [],
   "source": [
    "# the labels are:\n",
    "# 1st degree AV block\n",
    "# Right bundle branch block\n",
    "# Left bundle branch block\n",
    "# Sinus bradycardia\n",
    "# Atrial fibrillation\n",
    "# Sinus tachycardia\n",
    "# Normal\n",
    "x_label = ['1dAVb','RBBB','LBBB','SB','AF','ST', 'Normal']"
   ]
  },
  {
   "cell_type": "code",
   "execution_count": 24,
   "id": "63be873e",
   "metadata": {},
   "outputs": [],
   "source": [
    "output = np.load('test1.npy')\n",
    "N = len(output)"
   ]
  },
  {
   "cell_type": "code",
   "execution_count": 25,
   "id": "c81a133c",
   "metadata": {},
   "outputs": [],
   "source": [
    "ground_truth = np.genfromtxt('gold_standard.csv', delimiter=',')\n",
    "ground_truth = ground_truth[1:]"
   ]
  },
  {
   "cell_type": "code",
   "execution_count": 26,
   "id": "83d3065c",
   "metadata": {},
   "outputs": [],
   "source": [
    "# add a column in the end of dataset that represents 'normal ecg'\n",
    "# this column is binary, it will be 1 if all values in a result are below the threshold, and 0 otherwise\n",
    "def add_normal_column(threshold, dataset):\n",
    "    f = lambda x: 1 if x < threshold else 0\n",
    "    above_thresh = np.vectorize(f) \n",
    "    \n",
    "    new_col = np.amax(dataset, axis=1)\n",
    "    new_col = np.expand_dims(above_thresh(new_col), axis=1)\n",
    "    return np.append(dataset, new_col, axis=1)"
   ]
  },
  {
   "cell_type": "code",
   "execution_count": 27,
   "id": "1546ef51",
   "metadata": {},
   "outputs": [
    {
     "name": "stdout",
     "output_type": "stream",
     "text": [
      "(827, 7)\n",
      "(827, 7)\n",
      "[1.96125299e-01 1.49503350e-03 6.91953301e-01 1.92937255e-03\n",
      " 1.69748873e-01 4.82499599e-04 0.00000000e+00]\n"
     ]
    }
   ],
   "source": [
    "# add normal column to output and ground truth\n",
    "threshold = 0.12\n",
    "output = add_normal_column(threshold, output)\n",
    "ground_truth = add_normal_column(threshold, ground_truth)\n",
    "print(output.shape)\n",
    "print(ground_truth.shape)\n",
    "\n",
    "print(output[15])\n"
   ]
  },
  {
   "cell_type": "code",
   "execution_count": 28,
   "id": "3b26576a",
   "metadata": {},
   "outputs": [
    {
     "name": "stdout",
     "output_type": "stream",
     "text": [
      "False positives: 12, 1.45%\n",
      "[22, 121, 356, 422, 438, 502, 505, 645, 646, 678, 681, 728]\n",
      "False negatives: 8, 0.97%\n",
      "[57, 151, 313, 341, 355, 367, 720, 758]\n",
      "Overall accuracy: 97.58%\n"
     ]
    }
   ],
   "source": [
    "# False positive / negative rate in the test data set\n",
    "false_pos = []\n",
    "false_neg = []\n",
    "for i in range(N):\n",
    "    if output[i][6] != ground_truth[i][6]:\n",
    "        if output[i][6] > ground_truth[i][6]:\n",
    "            false_neg.append(i)\n",
    "        else:\n",
    "            false_pos.append(i)\n",
    "\n",
    "false_pos_num = len(false_pos)\n",
    "false_pos_perc = false_pos_num / N\n",
    "\n",
    "false_neg_num = len(false_neg)\n",
    "false_neg_perc = false_neg_num / N\n",
    "\n",
    "accuracy = (N - false_pos_num - false_neg_num) / N\n",
    "\n",
    "print('False positives: {num}, {perc:.2f}%'.format(num=false_pos_num, perc=false_pos_perc * 100))\n",
    "print(false_pos)\n",
    "print('False negatives: {num}, {perc:.2f}%'.format(num=false_neg_num, perc=false_neg_perc * 100))\n",
    "print(false_neg)\n",
    "print('Overall accuracy: {perc:.2f}%'.format(perc=accuracy * 100))\n"
   ]
  },
  {
   "cell_type": "code",
   "execution_count": 59,
   "id": "b5be1e88",
   "metadata": {},
   "outputs": [],
   "source": [
    "# JSON Serialization for expediency of demo\n",
    "numpyData = {}\n",
    "for i, d in enumerate(output):\n",
    "    numpyData[i] = d\n",
    "encodedNumpyData = json.dumps(numpyData, cls=NumpyArrayEncoder)  # use dump() to write array into file\n",
    "with open('sample_output.json', 'w') as json_file:\n",
    "    json.dump(encodedNumpyData, json_file)\n",
    "\n",
    "# print(\"Printing JSON serialized NumPy array\")\n",
    "# print(encodedNumpyData)"
   ]
  },
  {
   "cell_type": "code",
   "execution_count": 9,
   "id": "0034da90",
   "metadata": {},
   "outputs": [],
   "source": [
    "# plot sample prediction\n",
    "def plot_prediction(sample_num):\n",
    "    fig = plt.figure()\n",
    "    ax = fig.add_axes([0,0,1,1])\n",
    "    X = np.arange(7)\n",
    "    y_prediction_values = output[sample_num]\n",
    "    y_ground_truth = ground_truth[sample_num]\n",
    "\n",
    "    ax.bar(X - 0.125, y_ground_truth, width=0.25)\n",
    "    ax.bar(X + 0.125, y_prediction_values, width=0.25)\n",
    "    ax.set_yticks(np.arange(0, 1.1, 0.1))\n",
    "    ax.set_xticks(X)\n",
    "    ax.set_xticklabels(x_label)\n",
    "    ax.legend(['ground truth', 'prediction'])\n",
    "    \n",
    "    plt.title('DNN prediction vs. ground truth for test sample #' + str(sample_num))\n",
    "    plt.xlabel('Abnormality')\n",
    "    plt.ylabel('Percent confidence')\n",
    "    plt.show()\n",
    "    \n",
    "    \n",
    "def get_prediction(sample_num):\n",
    "    return output[sample_num]"
   ]
  },
  {
   "cell_type": "code",
   "execution_count": 10,
   "id": "e1f3e620",
   "metadata": {},
   "outputs": [
    {
     "data": {
      "image/png": "[encoded data removed]",
      "text/plain": [
       "<Figure size 432x288 with 1 Axes>"
      ]
     },
     "metadata": {
      "needs_background": "light"
     },
     "output_type": "display_data"
    },
    {
     "data": {
      "text/plain": [
       "array([1.96125299e-01, 1.49503350e-03, 6.91953301e-01, 1.92937255e-03,\n",
       "       1.69748873e-01, 4.82499599e-04, 0.00000000e+00])"
      ]
     },
     "execution_count": 10,
     "metadata": {},
     "output_type": "execute_result"
    }
   ],
   "source": [
    "plot_prediction(15)\n",
    "get_prediction(15)"
   ]
  },
  {
   "cell_type": "code",
   "execution_count": 195,
   "id": "6264d5f0",
   "metadata": {},
   "outputs": [
    {
     "data": {
      "image/png": "[encoded data removed]",
      "text/plain": [
       "<Figure size 432x288 with 1 Axes>"
      ]
     },
     "metadata": {
      "needs_background": "light"
     },
     "output_type": "display_data"
    }
   ],
   "source": [
    "plot_prediction(2)"
   ]
  },
  {
   "cell_type": "code",
   "execution_count": 198,
   "id": "1dc6fa94",
   "metadata": {},
   "outputs": [
    {
     "data": {
      "image/png": "[encoded data removed]",
      "text/plain": [
       "<Figure size 432x288 with 1 Axes>"
      ]
     },
     "metadata": {
      "needs_background": "light"
     },
     "output_type": "display_data"
    }
   ],
   "source": [
    "plot_prediction(438)"
   ]
  },
  {
   "cell_type": "code",
   "execution_count": 199,
   "id": "bc73fc2d",
   "metadata": {},
   "outputs": [
    {
     "data": {
      "image/png": "[encoded data removed]",
      "text/plain": [
       "<Figure size 432x288 with 1 Axes>"
      ]
     },
     "metadata": {
      "needs_background": "light"
     },
     "output_type": "display_data"
    }
   ],
   "source": [
    "plot_prediction(720)"
   ]
  },
  {
   "cell_type": "code",
   "execution_count": null,
   "id": "264787e1",
   "metadata": {},
   "outputs": [],
   "source": []
  },
  {
   "cell_type": "code",
   "execution_count": null,
   "id": "d1d5d720",
   "metadata": {},
   "outputs": [],
   "source": []
  }
 ],
 "metadata": {
  "kernelspec": {
   "display_name": "Python 3",
   "language": "python",
   "name": "python3"
  },
  "language_info": {
   "codemirror_mode": {
    "name": "ipython",
    "version": 3
   },
   "file_extension": ".py",
   "mimetype": "text/x-python",
   "name": "python",
   "nbconvert_exporter": "python",
   "pygments_lexer": "ipython3",
   "version": "3.8.8"
  }
 },
 "nbformat": 4,
 "nbformat_minor": 5
}
